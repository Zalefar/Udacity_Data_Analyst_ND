{
 "cells": [
  {
   "cell_type": "markdown",
   "metadata": {},
   "source": [
    "#Machine Learning POI Classifer   \n",
    "###Zach Farmer   \n",
    "####Udacity Data Analyst Nano Degree Project    "
   ]
  },
  {
   "cell_type": "markdown",
   "metadata": {},
   "source": [
    "##Table of Contents      \n",
    "* [Neccessary resources](#Neccessary resources)    "
   ]
  },
  {
   "cell_type": "markdown",
   "metadata": {},
   "source": [
    "<a id=\"Neccessary resources\"></a>  \n",
    "*******   "
   ]
  },
  {
   "cell_type": "markdown",
   "metadata": {},
   "source": [
    "##Neccessary resources       \n",
    "The following code block will download the mail directory to the same directory as this notebook. This is neccessary owing to the size of the files and the upload limits on a free github account. "
   ]
  },
  {
   "cell_type": "code",
   "execution_count": 4,
   "metadata": {
    "collapsed": false
   },
   "outputs": [
    {
     "name": "stdout",
     "output_type": "stream",
     "text": [
      "Project_5_Machine_Learning_POI_Classifier.ipynb\r\n",
      "README.md\r\n",
      "\u001b[34memails_by_address\u001b[m\u001b[m\r\n",
      "enron61702insiderpay.pdf\r\n",
      "final_project_dataset.pkl\r\n",
      "final_project_dataset_modified.pkl\r\n",
      "poi_email_addresses.py\r\n",
      "poi_id.py\r\n",
      "poi_names.txt\r\n",
      "tester.py\r\n"
     ]
    }
   ],
   "source": [
    "!ls"
   ]
  },
  {
   "cell_type": "code",
   "execution_count": 25,
   "metadata": {
    "collapsed": false
   },
   "outputs": [
    {
     "name": "stdout",
     "output_type": "stream",
     "text": [
      "Error validating server certificate for 'https://github.com:443':\n",
      " - The certificate is not issued by a trusted authority. Use the\n",
      "   fingerprint to validate the certificate manually!\n",
      "Certificate information:\n",
      " - Hostname: github.com\n",
      " - Valid: from Tue, 08 Apr 2014 00:00:00 GMT until Tue, 12 Apr 2016 12:00:00 GMT\n",
      " - Issuer: www.digicert.com, DigiCert Inc, US\n",
      " - Fingerprint: a0:c4:a7:46:00:ed:a7:2d:c0:be:cb:9a:8c:b6:07:ca:58:ee:74:5e\n",
      "(R)eject, accept (t)emporarily or accept (p)ermanently? ^Csvn: E175002: Unable to connect to a repository at URL 'https://github.com/udacity/ud120-projects/tree/master/final_project'\n",
      "svn: E175002: OPTIONS of 'https://github.com/udacity/ud120-projects/tree/master/final_project': Server certificate verification failed: issuer is not trusted (https://github.com)\n",
      "\n"
     ]
    }
   ],
   "source": [
    "!svn ls https://github.com/udacity/ud120-projects/tree/master/final_project"
   ]
  },
  {
   "cell_type": "code",
   "execution_count": 26,
   "metadata": {
    "collapsed": false
   },
   "outputs": [
    {
     "name": "stdout",
     "output_type": "stream",
     "text": [
      "/bin/sh: t: command not found\r\n"
     ]
    }
   ],
   "source": []
  },
  {
   "cell_type": "code",
   "execution_count": 21,
   "metadata": {
    "collapsed": false
   },
   "outputs": [],
   "source": []
  },
  {
   "cell_type": "code",
   "execution_count": null,
   "metadata": {
    "collapsed": true
   },
   "outputs": [],
   "source": []
  }
 ],
 "metadata": {
  "kernelspec": {
   "display_name": "Python 2",
   "language": "python",
   "name": "python2"
  },
  "language_info": {
   "codemirror_mode": {
    "name": "ipython",
    "version": 2
   },
   "file_extension": ".py",
   "mimetype": "text/x-python",
   "name": "python",
   "nbconvert_exporter": "python",
   "pygments_lexer": "ipython2",
   "version": "2.7.11"
  }
 },
 "nbformat": 4,
 "nbformat_minor": 0
}
