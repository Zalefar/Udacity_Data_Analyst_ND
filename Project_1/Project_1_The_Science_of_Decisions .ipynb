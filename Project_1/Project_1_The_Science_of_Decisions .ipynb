{
 "cells": [
  {
   "cell_type": "markdown",
   "metadata": {},
   "source": [
    "#The Science of Decisions    \n",
    "***Zach Farmer***      \n",
    "*****"
   ]
  },
  {
   "cell_type": "markdown",
   "metadata": {},
   "source": [
    "##Table of contents      \n",
    "[Background](#Background)    \n",
    "[Questions For Investigation](#Questions)       \n",
    "   * [Indepedent & Dependent variables](#What are our variables)  \n",
    "   * [Hypothesis and Tests](#Hypothesis and Tests)   \n",
    "   * [Descriptive Statistics](#Descriptive Statistics)     \n",
    "   * [Visualization](#Visualizations)  \n",
    "   * [Statistical test](#Statistical test)      \n",
    "   * [Why](#Why)    \n",
    "   \n",
    "[References](#References)      \n",
    "   \n",
    "   \n",
    "   "
   ]
  },
  {
   "cell_type": "markdown",
   "metadata": {},
   "source": [
    "###Statistics: The Science of Decisions Project Instructions   \n",
    "*****"
   ]
  },
  {
   "cell_type": "markdown",
   "metadata": {},
   "source": [
    "<a id=\"Background\"></a>"
   ]
  },
  {
   "cell_type": "markdown",
   "metadata": {},
   "source": [
    "####Background Information\n",
    "In a Stroop task, participants are presented with a list of words, with each word displayed in a color of ink. The participant’s task is to say out loud the color of the ink in which the word is printed. The task has two conditions: a congruent words condition, and an incongruent words condition. In the congruent words condition, the words being displayed are color words whose names match the colors in which they are printed: for example <font color=\"red\">RED</font>, <font color=\"blue\">BLUE</font>. In the incongruent words condition, the words displayed are color words whose names do not match the colors in which they are printed: for example <font color=\"purple\">PURPLE</font>, <font color=\"orange\">ORANGE</font>. In each case, we measure the time it takes to name the ink colors in equally-sized lists. Each participant will go through and record a time from each condition."
   ]
  },
  {
   "cell_type": "markdown",
   "metadata": {},
   "source": [
    "<a id=\"Questions\"></a>"
   ]
  },
  {
   "cell_type": "markdown",
   "metadata": {},
   "source": [
    "####Questions For Investigation   \n",
    "\n",
    "As a general note, be sure to keep a record of any resources that you use or refer to in the creation of your project. You will need to report your sources as part of the project submission.      \n",
    "\n",
    "To try out the Stroop task for yourself, Go to this [link](https://www.google.com/url?q=https://faculty.washington.edu/chudler/java/ready.html&sa=D&usg=AFQjCNFRXmkTGaTjMtk1Xh0SPh-RiaZerA). This page has a Java-based applet for performing the Stroop task. Record the times that you received on the task (you do not need to submit your times to the site.) Now, download this [dataset](https://www.google.com/url?q=https://drive.google.com/file/d/0B9Yf01UaIbUgQXpYb2NhZ29yX1U/view?usp%3Dsharing&sa=D&usg=AFQjCNGAjbK9VYD5GsQ8c_iRT9zH9QdOVg) which contains results from a number of participants in the task. Each row of the dataset contains the performance for one participant, with the first number their results on the congruent task and the second number their performance on the incongruent task.   \n",
    "\n",
    "1. *What is our independent variable? What is our dependent variable?*          \n",
    "2. *What is an appropriate set of hypotheses for this task? What kind of statistical test do you expect to perform? Justify your choices.*             \n",
    "3. *Report some descriptive statistics regarding this dataset. Include at least one measure of central tendency and at least one measure of variability.*    \n",
    "4. *Provide one or two visualizations that show the distribution of the sample data. Write one or two sentences noting what you observe about the plot or plots.*        \n",
    "5. *Now, perform the statistical test and report your results. What is your confidence level and your critical statistic value? Do you reject the null hypothesis or fail to reject it? Come to a conclusion in terms of the experiment task. Did the results match up with your expectations?*      \n",
    "6. *Optional: What do you think is responsible for the effects observed? Can you think of an alternative or similar task that would result in a similar effect? Some research about the problem will be helpful for thinking about these two questions!*      "
   ]
  },
  {
   "cell_type": "code",
   "execution_count": 125,
   "metadata": {
    "collapsed": false
   },
   "outputs": [],
   "source": [
    "import pandas as pd\n",
    "from ggplot import *\n",
    "import pprint\n",
    "import matplotlib as plt  \n",
    "import scipy\n"
   ]
  },
  {
   "cell_type": "code",
   "execution_count": 2,
   "metadata": {
    "collapsed": false
   },
   "outputs": [],
   "source": [
    "## Load csv Stroop data into a pandas DataFrame\n",
    "csv = !find *.csv\n",
    "Stroop_df = pd.read_csv(csv[0])"
   ]
  },
  {
   "cell_type": "code",
   "execution_count": 3,
   "metadata": {
    "collapsed": false
   },
   "outputs": [
    {
     "data": {
      "text/html": [
       "<div>\n",
       "<table border=\"1\" class=\"dataframe\">\n",
       "  <thead>\n",
       "    <tr style=\"text-align: right;\">\n",
       "      <th></th>\n",
       "      <th>Congruent</th>\n",
       "      <th>Incongruent</th>\n",
       "    </tr>\n",
       "  </thead>\n",
       "  <tbody>\n",
       "    <tr>\n",
       "      <th>0</th>\n",
       "      <td>12.079</td>\n",
       "      <td>19.278</td>\n",
       "    </tr>\n",
       "    <tr>\n",
       "      <th>1</th>\n",
       "      <td>16.791</td>\n",
       "      <td>18.741</td>\n",
       "    </tr>\n",
       "    <tr>\n",
       "      <th>2</th>\n",
       "      <td>9.564</td>\n",
       "      <td>21.214</td>\n",
       "    </tr>\n",
       "    <tr>\n",
       "      <th>3</th>\n",
       "      <td>8.630</td>\n",
       "      <td>15.687</td>\n",
       "    </tr>\n",
       "    <tr>\n",
       "      <th>4</th>\n",
       "      <td>14.669</td>\n",
       "      <td>22.803</td>\n",
       "    </tr>\n",
       "    <tr>\n",
       "      <th>5</th>\n",
       "      <td>12.238</td>\n",
       "      <td>20.878</td>\n",
       "    </tr>\n",
       "    <tr>\n",
       "      <th>6</th>\n",
       "      <td>14.692</td>\n",
       "      <td>24.572</td>\n",
       "    </tr>\n",
       "    <tr>\n",
       "      <th>7</th>\n",
       "      <td>8.987</td>\n",
       "      <td>17.394</td>\n",
       "    </tr>\n",
       "    <tr>\n",
       "      <th>8</th>\n",
       "      <td>9.401</td>\n",
       "      <td>20.762</td>\n",
       "    </tr>\n",
       "    <tr>\n",
       "      <th>9</th>\n",
       "      <td>14.480</td>\n",
       "      <td>26.282</td>\n",
       "    </tr>\n",
       "    <tr>\n",
       "      <th>10</th>\n",
       "      <td>22.328</td>\n",
       "      <td>24.524</td>\n",
       "    </tr>\n",
       "    <tr>\n",
       "      <th>11</th>\n",
       "      <td>15.298</td>\n",
       "      <td>18.644</td>\n",
       "    </tr>\n",
       "    <tr>\n",
       "      <th>12</th>\n",
       "      <td>15.073</td>\n",
       "      <td>17.510</td>\n",
       "    </tr>\n",
       "    <tr>\n",
       "      <th>13</th>\n",
       "      <td>16.929</td>\n",
       "      <td>20.330</td>\n",
       "    </tr>\n",
       "    <tr>\n",
       "      <th>14</th>\n",
       "      <td>18.200</td>\n",
       "      <td>35.255</td>\n",
       "    </tr>\n",
       "    <tr>\n",
       "      <th>15</th>\n",
       "      <td>12.130</td>\n",
       "      <td>22.158</td>\n",
       "    </tr>\n",
       "    <tr>\n",
       "      <th>16</th>\n",
       "      <td>18.495</td>\n",
       "      <td>25.139</td>\n",
       "    </tr>\n",
       "    <tr>\n",
       "      <th>17</th>\n",
       "      <td>10.639</td>\n",
       "      <td>20.429</td>\n",
       "    </tr>\n",
       "    <tr>\n",
       "      <th>18</th>\n",
       "      <td>11.344</td>\n",
       "      <td>17.425</td>\n",
       "    </tr>\n",
       "    <tr>\n",
       "      <th>19</th>\n",
       "      <td>12.369</td>\n",
       "      <td>34.288</td>\n",
       "    </tr>\n",
       "    <tr>\n",
       "      <th>20</th>\n",
       "      <td>12.944</td>\n",
       "      <td>23.894</td>\n",
       "    </tr>\n",
       "    <tr>\n",
       "      <th>21</th>\n",
       "      <td>14.233</td>\n",
       "      <td>17.960</td>\n",
       "    </tr>\n",
       "    <tr>\n",
       "      <th>22</th>\n",
       "      <td>19.710</td>\n",
       "      <td>22.058</td>\n",
       "    </tr>\n",
       "    <tr>\n",
       "      <th>23</th>\n",
       "      <td>16.004</td>\n",
       "      <td>21.157</td>\n",
       "    </tr>\n",
       "  </tbody>\n",
       "</table>\n",
       "</div>"
      ],
      "text/plain": [
       "    Congruent  Incongruent\n",
       "0      12.079       19.278\n",
       "1      16.791       18.741\n",
       "2       9.564       21.214\n",
       "3       8.630       15.687\n",
       "4      14.669       22.803\n",
       "5      12.238       20.878\n",
       "6      14.692       24.572\n",
       "7       8.987       17.394\n",
       "8       9.401       20.762\n",
       "9      14.480       26.282\n",
       "10     22.328       24.524\n",
       "11     15.298       18.644\n",
       "12     15.073       17.510\n",
       "13     16.929       20.330\n",
       "14     18.200       35.255\n",
       "15     12.130       22.158\n",
       "16     18.495       25.139\n",
       "17     10.639       20.429\n",
       "18     11.344       17.425\n",
       "19     12.369       34.288\n",
       "20     12.944       23.894\n",
       "21     14.233       17.960\n",
       "22     19.710       22.058\n",
       "23     16.004       21.157"
      ]
     },
     "execution_count": 3,
     "metadata": {},
     "output_type": "execute_result"
    }
   ],
   "source": [
    "# First look at the data\n",
    "Stroop_df"
   ]
  },
  {
   "cell_type": "markdown",
   "metadata": {},
   "source": [
    "<a id=\"What are our variables\"></a>"
   ]
  },
  {
   "cell_type": "markdown",
   "metadata": {},
   "source": [
    "###What is our independent variable? What is our dependent variable?     \n",
    "**Dependent variable:** The time neccessary to verbally identify the font color of the words (which are words of colors themselves) in the experiment.      \n",
    "**Independent variable:** The congruency between the word and font color (for this experiment the word itself is a controlled variable (unchanging between the both tests) and we are only perturbing the color of the text.) \n",
    "  "
   ]
  },
  {
   "cell_type": "markdown",
   "metadata": {},
   "source": [
    "<a id=\"Hypothesis and Tests\"></a>\n",
    "******"
   ]
  },
  {
   "cell_type": "markdown",
   "metadata": {},
   "source": [
    "###What is an appropriate set of hypotheses for this task? What kind of statistical test do you expect to perform? Justify your choices.    \n",
    "($\\mu$ = Population Mean Time)      \n",
    "**Hypothesis:**  (two-tailed test for Stroop task sample data)       \n",
    "*Null Hypothesis* $(H_{0})$: $[\\mu_{Congr.} = \\mu_{Incongr.}]$ or $[\\mu_{Congr.} - \\mu_{Incongr.} = 0]$       \n",
    "The population mean time it takes to verbalize the font color of a word is no different between the color being congruent with the word or incongruent with the word.     \n",
    " \n",
    "\n",
    "*Alternative Hypothesis* $(H_{a})$: $[\\mu_{Congr.} \\ne \\mu_{Incongr.}]$ or $[\\mu_{Congr.} - \\mu_{Incongr.} \\ne 0]$        \n",
    "There is a difference in the population mean time it takes to verbalize the font color of a word between congruent and Incongruent words and font colors. \n",
    "\n",
    "**Type of statistical test:** Dependent t-test sometimes refered to as a paired t-test or matched t-test. This type of test compares the means between two related groups. In our case we have one group of subjects who take one test, a 'treatment' is applied and then the same individuals take another test. Our goal in this analysis is to determine if the means from the first test and the means from the second test are stastically significantly different. There are 4 major assumptions we have to make when using this test. The first assumptions is that the dependent variable is measured on a continuous scale. This assumption is true in our case as the dependent variable time is inherently continuous. The second assumption is that our independent variable are related or matched pairs. This is also true in our case. Third there should not be any significant outliers in differences between the two related groups, the following plot will show this is generally the case. Fourth and finally the differences in the dependent variable should roughly be normally distributed. Again the following plot will confirm that the differences are roughly gaussian.    \n",
    "\n",
    "\n"
   ]
  },
  {
   "cell_type": "code",
   "execution_count": 166,
   "metadata": {
    "collapsed": false
   },
   "outputs": [
    {
     "data": {
      "text/plain": [
       "<matplotlib.axes._subplots.AxesSubplot at 0x11264db10>"
      ]
     },
     "execution_count": 166,
     "metadata": {},
     "output_type": "execute_result"
    },
    {
     "data": {
      "image/png": "[encoded data removed]",
      "text/plain": [
       "<matplotlib.figure.Figure at 0x1115f9c90>"
      ]
     },
     "metadata": {},
     "output_type": "display_data"
    }
   ],
   "source": [
    "%matplotlib inline \n",
    "## determine if the differences between times is relatively normal\n",
    "diff_df = Stroop_df[\"Congruent\"] - Stroop_df[\"Incongruent\"]\n",
    "\n",
    "diff_df.plot(kind = \"kde\",\n",
    "             title=\"Density plot of differences between test times\")"
   ]
  },
  {
   "cell_type": "markdown",
   "metadata": {},
   "source": [
    "<a id=\"Descriptive Statistics\"></a>    \n",
    "********"
   ]
  },
  {
   "cell_type": "markdown",
   "metadata": {},
   "source": [
    "###Report some descriptive statistics regarding this dataset. Include at least one measure of central tendency and at least one measure of variability.  "
   ]
  },
  {
   "cell_type": "code",
   "execution_count": 4,
   "metadata": {
    "collapsed": false
   },
   "outputs": [
    {
     "data": {
      "text/html": [
       "<div>\n",
       "<table border=\"1\" class=\"dataframe\">\n",
       "  <thead>\n",
       "    <tr style=\"text-align: right;\">\n",
       "      <th></th>\n",
       "      <th>Congruent</th>\n",
       "      <th>Incongruent</th>\n",
       "    </tr>\n",
       "  </thead>\n",
       "  <tbody>\n",
       "    <tr>\n",
       "      <th>count</th>\n",
       "      <td>24.000000</td>\n",
       "      <td>24.000000</td>\n",
       "    </tr>\n",
       "    <tr>\n",
       "      <th>mean</th>\n",
       "      <td>14.051125</td>\n",
       "      <td>22.015917</td>\n",
       "    </tr>\n",
       "    <tr>\n",
       "      <th>std</th>\n",
       "      <td>3.559358</td>\n",
       "      <td>4.797057</td>\n",
       "    </tr>\n",
       "    <tr>\n",
       "      <th>min</th>\n",
       "      <td>8.630000</td>\n",
       "      <td>15.687000</td>\n",
       "    </tr>\n",
       "    <tr>\n",
       "      <th>25%</th>\n",
       "      <td>11.895250</td>\n",
       "      <td>18.716750</td>\n",
       "    </tr>\n",
       "    <tr>\n",
       "      <th>50%</th>\n",
       "      <td>14.356500</td>\n",
       "      <td>21.017500</td>\n",
       "    </tr>\n",
       "    <tr>\n",
       "      <th>75%</th>\n",
       "      <td>16.200750</td>\n",
       "      <td>24.051500</td>\n",
       "    </tr>\n",
       "    <tr>\n",
       "      <th>max</th>\n",
       "      <td>22.328000</td>\n",
       "      <td>35.255000</td>\n",
       "    </tr>\n",
       "  </tbody>\n",
       "</table>\n",
       "</div>"
      ],
      "text/plain": [
       "       Congruent  Incongruent\n",
       "count  24.000000    24.000000\n",
       "mean   14.051125    22.015917\n",
       "std     3.559358     4.797057\n",
       "min     8.630000    15.687000\n",
       "25%    11.895250    18.716750\n",
       "50%    14.356500    21.017500\n",
       "75%    16.200750    24.051500\n",
       "max    22.328000    35.255000"
      ]
     },
     "execution_count": 4,
     "metadata": {},
     "output_type": "execute_result"
    }
   ],
   "source": [
    "Stroop_df.describe()"
   ]
  },
  {
   "cell_type": "code",
   "execution_count": 145,
   "metadata": {
    "collapsed": false
   },
   "outputs": [
    {
     "name": "stdout",
     "output_type": "stream",
     "text": [
      "The IQR range for the Stroop dataset: \n",
      "Congruent      4.30550\n",
      "Incongruent    5.33475\n",
      "dtype: float64\n"
     ]
    }
   ],
   "source": [
    "## Find IQR range for both tests\n",
    "print \"The IQR range for the Stroop dataset: \\n{0}\".\\\n",
    "format(Stroop_df.quantile(.75)-Stroop_df.quantile(.25))"
   ]
  },
  {
   "cell_type": "markdown",
   "metadata": {},
   "source": [
    "<a id=\"Visualizations\"></a>    \n",
    "*****"
   ]
  },
  {
   "cell_type": "markdown",
   "metadata": {},
   "source": [
    "###Provide one or two visualizations that show the distribution of the sample data. Write one or two sentences noting what you observe about the plot or plots.         \n"
   ]
  },
  {
   "cell_type": "code",
   "execution_count": 124,
   "metadata": {
    "collapsed": false
   },
   "outputs": [
    {
     "data": {
      "image/png": "[encoded data removed]",
      "text/plain": [
       "<matplotlib.figure.Figure at 0x110439990>"
      ]
     },
     "metadata": {},
     "output_type": "display_data"
    },
    {
     "data": {
      "text/plain": [
       "<ggplot: (277911093)>"
      ]
     },
     "execution_count": 124,
     "metadata": {},
     "output_type": "execute_result"
    }
   ],
   "source": [
    "## Melt the dataframe for ggplot graphing methodology to properly group\n",
    "## by test type(congruent, incongruent. Use density plots with default \n",
    "## gaussian kernel to display the to tests results\n",
    "plot_df = pd.melt(Stroop_df)\n",
    "\n",
    "## find means for each tests\n",
    "means = plot_df.groupby(\"variable\").mean()\n",
    "congruent_mean = means.iloc[0][\"value\"]\n",
    "incongruent_mean = means.iloc[1][\"value\"]\n",
    "\n",
    "##plot the two test results together using gaussian kernel density\n",
    "ggplot(aes(x='value', fill = \"variable\"),data=plot_df) + \\\n",
    "        geom_density(alpha = .5) + \\\n",
    "        geom_vline(aes(xintercept = congruent_mean,\\\n",
    "                   colour = \"black\"),linetype = \"dashed\",) +\\\n",
    "        geom_vline(aes(xintercept = incongruent_mean,\\\n",
    "                   colour = \"black\"), linetype = \"dashed\") +\\\n",
    "        scale_x_continuous(breaks = range(0,36,1)) +\\\n",
    "        xlab(\"Time in seconds\") +\\\n",
    "        ylab(\"density\") + \\\n",
    "        ggtitle(\"Density distribtions btw. the \\\n",
    "two tests measuring the Stroop effect\")\n"
   ]
  },
  {
   "cell_type": "markdown",
   "metadata": {
    "collapsed": false
   },
   "source": [
    "**Notes:** The black dashed lines represent the corresponding means for the two tests.      \n",
    "\n",
    "We can very clearly see two different distributions here and I suspect that our analytical tests will confirm this. It looks like the test containing congruent words and font colors is much faster to verbalize then the test containing the incongruent words and font colors. There is a slight bimodal distribution in the incongruent test times.  \n",
    "\n"
   ]
  },
  {
   "cell_type": "markdown",
   "metadata": {},
   "source": [
    "<a id=\"Statistical test\"></a>    \n",
    "******"
   ]
  },
  {
   "cell_type": "markdown",
   "metadata": {},
   "source": [
    "###Perform the statistical test and report your results. What is your confidence level and your critical statistic value? Do you reject the null hypothesis or fail to reject it? Come to a conclusion in terms of the experiment task. Did the results match up with your expectations?\n",
    "\n",
    "**Confidence level:** 95%       \n",
    "**Critical Statistic Value:** 0.05     \n",
    "\n",
    "The following paired dependent t-test using scipy.stats function returns a two-tailed result. This is appropriate as we are hypothesising that there is no change in time difference, neither more time or less time between the tests. "
   ]
  },
  {
   "cell_type": "code",
   "execution_count": 143,
   "metadata": {
    "collapsed": false
   },
   "outputs": [
    {
     "name": "stdout",
     "output_type": "stream",
     "text": [
      "The t-statistic for df = 23 is: -8.02071\n",
      "The two-tailed p-value is: 4e-08\n"
     ]
    }
   ],
   "source": [
    "#Calculates the T-test on TWO RELATED samples of scores, a and b.\n",
    "t_test_results = scipy.stats.ttest_rel(Stroop_df[\"Congruent\"], Stroop_df[\"Incongruent\"])\n",
    "\n",
    "print \"The t-statistic for df = 23 is: {0}\\nThe two-tailed p-value is: {1}\".\\\n",
    "format(round(t_test_results[0],5), round(t_test_results[1],8))"
   ]
  },
  {
   "cell_type": "markdown",
   "metadata": {},
   "source": [
    "**Analysis:** With a p-value that is way below 0.05 I would feel very comfortable about rejecting the null hypothesis. Recall that our null hypothesis was that no differences exist between verbalization times for congruent and incongruent words and fonts. This means that we can say that there is a statistically significant difference between verbalization times when words are not congruent with their font colors (our alternative hypothesis).  These results match my expectations, after attempting the test myself I found it significantly slower when the words where incongruent and my plotting of the data confirmed this personal experience. While I did not specifically test to see if the incongurent test was longer then the congruent, I have little doubt that if I ran such a test I would find it to be the case.   "
   ]
  },
  {
   "cell_type": "markdown",
   "metadata": {},
   "source": [
    "<a id=\"Why\"></a>\n",
    "******"
   ]
  },
  {
   "cell_type": "markdown",
   "metadata": {},
   "source": [
    "###What do you think is responsible for the effects observed? Can you think of an alternative or similar task that would result in a similar effect? Some research about the problem will be helpful for thinking about these two questions!\n",
    "\n",
    "Good question! I would hypothesis from my own personal experiences that reading the word came faster and was much easier then identifying the color. When the test case was congurent I was verbalizing as fast as I could speak, I had no trouble identifying the words and as they were congruent the font colors. With the incongruent test, I was much slower and found myself making some mistakes and verbalizing the word and not the font. I can only conclude that identifying the words comes easier to our brains then the colors. Furthermore it takes more conscience effort to ingnore the word when it is incongruent and verbalize the font color. The discontinuity between the two forms of information could likely be replicated in other experiments. I have actually participated in a very similar exercise as a 'game' on a mobile application. The 'game' presented you with a screen full of identical and random placed single leafs. All of the leafs pointed in the same direction and all of the leafs moved in unison scrolling across the screen in one of either four directions (up,down,right,left). When the leafs were a the color green you were asked to 'swipe' on your mobile screen in the direction that the leafs were pointing and when the leafs turned yellow you were required to swipe in the direction that all the leafs were scrolling. The discontinuity was introduced by changing the direction the leafs pointed and the direction they scrolled every time you swiped. The directions of the leafs and the colors changed every swipe and often times there were incongruency between the direction the leafs were pointing and the direction they were scrolling. When the leafs pointed in the same direction as the scrolling it was faster to accuractly swipe in the correct direction. The test was challenging your ability to prioritize between identifying shapes and identifying movement.   "
   ]
  },
  {
   "cell_type": "markdown",
   "metadata": {},
   "source": [
    "<a id=\"References\"></a>"
   ]
  },
  {
   "cell_type": "markdown",
   "metadata": {},
   "source": [
    "###References    \n",
    "[Dependent T-Test using SPSS Statistics](https://statistics.laerd.com/spss-tutorials/dependent-t-test-using-spss-statistics.php)    \n",
    "[Institute for Digital Education and Education](http://www.ats.ucla.edu/stat/stata/whatstat/whatstat.htm)   \n",
    "[General pandas](http://pandas.pydata.org/pandas-docs/stable/index.html)   \n",
    "[Neuroscience for Kids](#https://faculty.washington.edu/chudler/words.html)       \n"
   ]
  },
  {
   "cell_type": "code",
   "execution_count": null,
   "metadata": {
    "collapsed": true
   },
   "outputs": [],
   "source": []
  }
 ],
 "metadata": {
  "kernelspec": {
   "display_name": "Python 2",
   "language": "python",
   "name": "python2"
  },
  "language_info": {
   "codemirror_mode": {
    "name": "ipython",
    "version": 2
   },
   "file_extension": ".py",
   "mimetype": "text/x-python",
   "name": "python",
   "nbconvert_exporter": "python",
   "pygments_lexer": "ipython2",
   "version": "2.7.10"
  }
 },
 "nbformat": 4,
 "nbformat_minor": 0
}
